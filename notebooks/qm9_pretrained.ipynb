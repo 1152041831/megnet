{
 "cells": [
  {
   "cell_type": "code",
   "execution_count": 1,
   "metadata": {},
   "outputs": [
    {
     "name": "stderr",
     "output_type": "stream",
     "text": [
      "Using TensorFlow backend.\n"
     ]
    }
   ],
   "source": [
    "from megnet.models import MEGNetModel\n",
    "import numpy as np\n",
    "from operator import itemgetter\n",
    "import json\n",
    "\n",
    "def predict(model, graph):\n",
    "    \"\"\"\n",
    "    predict from graph\n",
    "    \"\"\"\n",
    "    return model.predict(model.graph_convertor.graph_to_input(graph)).ravel()[0]\n",
    "\n",
    "def get_graph_from_doc(doc):\n",
    "    \"\"\"\n",
    "    Convert a json document into a megnet graph\n",
    "    \"\"\"\n",
    "    atom = [i['type'] for i in doc['atoms']]\n",
    "\n",
    "    index1_temp = [i['a_idx'] for i in doc['atom_pairs']]\n",
    "    index2_temp = [i['b_idx'] for i in doc['atom_pairs']]\n",
    "    bond_temp = [i['spatial_distance'] for i in doc['atom_pairs']]\n",
    "\n",
    "    index1 = index1_temp + index2_temp\n",
    "    index2 = index2_temp + index1_temp\n",
    "    bond = bond_temp + bond_temp\n",
    "    sort_key = np.argsort(index1)\n",
    "    it = itemgetter(*sort_key)\n",
    "\n",
    "    index1 = it(index1)\n",
    "    index2 = it(index2)\n",
    "    bond = it(bond)\n",
    "    graph = {'atom': atom, 'bond': bond, 'index1': index1, 'index2': index2, 'state': [[0, 0]]}\n",
    "    return graph\n",
    "\n",
    "# load scalers\n",
    "with open('../mvl_models/qm9/scaler.json', 'r') as f:\n",
    "    scaler = json.load(f)\n",
    "    \n",
    "# load an example qm9 document\n",
    "with open('../megnet/data/tests/qm9/000001.json', 'r') as f:\n",
    "    doc = json.load(f)\n",
    "# convert to a graph\n",
    "graph = get_graph_from_doc(doc)"
   ]
  },
  {
   "cell_type": "code",
   "execution_count": 2,
   "metadata": {},
   "outputs": [
    {
     "name": "stdout",
     "output_type": "stream",
     "text": [
      "Target MEGNet QM9\n",
      "mu -0.008367357600964215 0.0\n",
      "alpha 13.127069931402847 13.21\n",
      "HOMO -10.556634190047586 -10.54958839\n",
      "LUMO 3.241194954064075 3.18637297\n",
      "gap 13.622226037945168 13.73596136\n",
      "R2 35.9745626512748 35.3641\n",
      "ZPVE 1.215309852340181 1.2176516143\n",
      "U0 -17.165518999471423 -17.1717476062\n",
      "U -17.35292190545371 -17.2863862853\n",
      "H -17.420152179695215 -17.3892155206\n",
      "G -16.10713760463493 -16.1515096204\n",
      "Cv 6.42743049756236 6.469\n",
      "omega1 3151.62572191244 3151.7078\n"
     ]
    }
   ],
   "source": [
    "# all target names\n",
    "names = ['mu', 'alpha', 'HOMO', 'LUMO', 'gap', 'R2', 'ZPVE', 'U0', 'U', 'H', 'G', 'Cv', 'omega1']\n",
    "\n",
    "\n",
    "y_pred = []\n",
    "y_true = []\n",
    "\n",
    "for i in names:\n",
    "    model = MEGNetModel.from_file('../mvl_models/qm9/' + i+'.hdf5')\n",
    "    pred = predict(model, graph) \n",
    "    \n",
    "    # if it is an extrinsic quantity, multiply by number of atoms\n",
    "    # else multiply by 1\n",
    "    if scaler[i]['is_per_atom']:\n",
    "        n = len(graph['atom'])\n",
    "    else:\n",
    "        n = 1\n",
    "    # inverse transform of x_transform = (x-x_mean)/x_standard_deviation to get x\n",
    "    pred = (pred * scaler[i]['std'] + scaler[i]['mean'])  * n\n",
    "    \n",
    "    y_pred.append(pred)\n",
    "    y_true.append(doc['mol_info'][i])\n",
    "\n",
    "\n",
    "print('Target MEGNet QM9')\n",
    "for i, j, k in zip(names, y_pred, y_true):\n",
    "    print(i, j, k)"
   ]
  }
 ],
 "metadata": {
  "kernelspec": {
   "display_name": "Python 3",
   "language": "python",
   "name": "python3"
  },
  "language_info": {
   "codemirror_mode": {
    "name": "ipython",
    "version": 3
   },
   "file_extension": ".py",
   "mimetype": "text/x-python",
   "name": "python",
   "nbconvert_exporter": "python",
   "pygments_lexer": "ipython3",
   "version": "3.6.8"
  }
 },
 "nbformat": 4,
 "nbformat_minor": 2
}
