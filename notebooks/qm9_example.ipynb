{
 "cells": [
  {
   "cell_type": "code",
   "execution_count": 1,
   "metadata": {},
   "outputs": [
    {
     "name": "stderr",
     "output_type": "stream",
     "text": [
      "Using TensorFlow backend.\n"
     ]
    }
   ],
   "source": [
    "import json\n",
    "import numpy as np\n",
    "from unittest.mock import MagicMock\n",
    "from sklearn.preprocessing import StandardScaler\n",
    "from megnet.data.qm9 import load_qm9_faber, ring_to_vector, FeatureClean, Scaler\n",
    "from megnet.data.graph import GraphBatchGenerator\n",
    "from megnet.model import MEGNetModel\n"
   ]
  },
  {
   "cell_type": "code",
   "execution_count": 2,
   "metadata": {},
   "outputs": [],
   "source": [
    "# Load sample qm9 molecules\n",
    "data_json = '../megnet/data/tests/qm9/qm9.json'\n",
    "with open(data_json, 'r') as f:\n",
    "    data = json.load(f)\n",
    "\n",
    "# Create a mock database and the query return value \n",
    "# of the database is the qm9 molecules loaded previously\n",
    "db = type('Mock', (), {})\n",
    "db.find = MagicMock(return_value=data)"
   ]
  },
  {
   "cell_type": "code",
   "execution_count": 3,
   "metadata": {},
   "outputs": [
    {
     "name": "stderr",
     "output_type": "stream",
     "text": [
      "INFO:root:Start querying...\n",
      "\n"
     ]
    }
   ],
   "source": [
    "# Query results, and get graph representation from qm9 data\n",
    "atom_feature, bond_feature, state_feature, index1, index2, targets = \\\n",
    "    load_qm9_faber(db)"
   ]
  },
  {
   "cell_type": "code",
   "execution_count": 4,
   "metadata": {},
   "outputs": [],
   "source": [
    "# Clean up the features\n",
    "# categorical arguments mean the fields that will be considered as categorical\n",
    "# feature labels mean that total features considered in the current model\n",
    "atom_fc = FeatureClean(categorical=[\"type\", \"chirality\", \"hybridization\", \"donor\", \"acceptor\", \"aromatic\"],\n",
    "                       feature_labels=[\"type\", \"chirality\", \"ring_sizes\", \"hybridization\", \"donor\", \"acceptor\", \"aromatic\"])\n",
    "bond_fc = FeatureClean(categorical=[\"bond_type\", \"same_ring\"],\n",
    "                       feature_labels=[\"bond_type\", \"graph_distance\", \"same_ring\", \"spatial_distance\"])\n",
    "state_fc = Scaler()"
   ]
  },
  {
   "cell_type": "code",
   "execution_count": 5,
   "metadata": {},
   "outputs": [],
   "source": [
    "processed_atom_feature = atom_fc.fit_transform(atom_feature)\n",
    "processed_bond_feature = bond_fc.fit_transform(bond_feature)\n",
    "processed_state_feature = state_fc.fit_transform(state_feature)\n",
    "u0 = np.array(targets.loc[:, \"U0\"].values, dtype='float64').reshape((-1, 1)) "
   ]
  },
  {
   "cell_type": "code",
   "execution_count": 6,
   "metadata": {},
   "outputs": [],
   "source": [
    "# convert internal energy to internal energy per atom\n",
    "nb_atoms = np.array([len(i) for i in processed_atom_feature])\n",
    "processed_target = u0 / nb_atoms[:, None]"
   ]
  },
  {
   "cell_type": "code",
   "execution_count": 7,
   "metadata": {},
   "outputs": [],
   "source": [
    "n_atom_feature = len(processed_atom_feature[0][0])\n",
    "n_bond_feature = len(processed_bond_feature[0][0])\n",
    "n_state_feature = processed_state_feature[0].shape[-1]"
   ]
  },
  {
   "cell_type": "code",
   "execution_count": 8,
   "metadata": {},
   "outputs": [
    {
     "data": {
      "text/plain": [
       "(21, 26, 2)"
      ]
     },
     "execution_count": 8,
     "metadata": {},
     "output_type": "execute_result"
    }
   ],
   "source": [
    "# feature dimensions\n",
    "n_atom_feature, n_bond_feature, n_state_feature"
   ]
  },
  {
   "cell_type": "code",
   "execution_count": 9,
   "metadata": {},
   "outputs": [],
   "source": [
    "# generator for training\n",
    "BATCH_SIZE = 4\n",
    "train_generator = GraphBatchGenerator(processed_atom_feature, processed_bond_feature, processed_state_feature, \n",
    "                                     index1, index2, processed_target, batch_size=BATCH_SIZE)"
   ]
  },
  {
   "cell_type": "code",
   "execution_count": 10,
   "metadata": {},
   "outputs": [
    {
     "name": "stderr",
     "output_type": "stream",
     "text": [
      "WARNING:tensorflow:From /Users/shyue/miniconda3/lib/python3.7/site-packages/tensorflow/python/framework/op_def_library.py:263: colocate_with (from tensorflow.python.framework.ops) is deprecated and will be removed in a future version.\n",
      "Instructions for updating:\n",
      "Colocations handled automatically by placer.\n"
     ]
    }
   ],
   "source": [
    "# setup the model\n",
    "model = MEGNetModel(n_bond_feature, n_state_feature, n_feature=n_atom_feature,\n",
    "                    n1=16, n2=16, n3=8, n_blocks=1, n_pass=1, lr=1e-3)"
   ]
  },
  {
   "cell_type": "code",
   "execution_count": 11,
   "metadata": {},
   "outputs": [],
   "source": [
    "# number of steps for exausting the training data generator in one epoch\n",
    "n_steps = int(np.ceil(len(processed_target) / BATCH_SIZE))"
   ]
  },
  {
   "cell_type": "code",
   "execution_count": 12,
   "metadata": {},
   "outputs": [
    {
     "name": "stderr",
     "output_type": "stream",
     "text": [
      "WARNING:tensorflow:From /Users/shyue/miniconda3/lib/python3.7/site-packages/tensorflow/python/ops/math_ops.py:3066: to_int32 (from tensorflow.python.ops.math_ops) is deprecated and will be removed in a future version.\n",
      "Instructions for updating:\n",
      "Use tf.cast instead.\n",
      "WARNING:tensorflow:From /Users/shyue/miniconda3/lib/python3.7/site-packages/tensorflow/python/ops/math_grad.py:199: div (from tensorflow.python.ops.math_ops) is deprecated and will be removed in a future version.\n",
      "Instructions for updating:\n",
      "Deprecated in favor of operator or tf.math.divide.\n"
     ]
    },
    {
     "name": "stdout",
     "output_type": "stream",
     "text": [
      "Epoch 1/40\n",
      "3/3 [==============================] - 3s 913ms/step - loss: 14.0035\n",
      "Epoch 2/40\n",
      "3/3 [==============================] - 0s 7ms/step - loss: 13.9456\n",
      "Epoch 3/40\n",
      "3/3 [==============================] - 0s 8ms/step - loss: 13.6790\n",
      "Epoch 4/40\n",
      "3/3 [==============================] - 0s 10ms/step - loss: 12.8850\n",
      "Epoch 5/40\n",
      "3/3 [==============================] - 0s 9ms/step - loss: 12.8425\n",
      "Epoch 6/40\n",
      "3/3 [==============================] - 0s 10ms/step - loss: 12.0799\n",
      "Epoch 7/40\n",
      "3/3 [==============================] - 0s 7ms/step - loss: 11.4169\n",
      "Epoch 8/40\n",
      "3/3 [==============================] - 0s 8ms/step - loss: 10.5637\n",
      "Epoch 9/40\n",
      "3/3 [==============================] - 0s 7ms/step - loss: 9.5386\n",
      "Epoch 10/40\n",
      "3/3 [==============================] - 0s 6ms/step - loss: 8.3658\n",
      "Epoch 11/40\n",
      "3/3 [==============================] - 0s 7ms/step - loss: 7.0535\n",
      "Epoch 12/40\n",
      "3/3 [==============================] - 0s 7ms/step - loss: 5.6601\n",
      "Epoch 13/40\n",
      "3/3 [==============================] - 0s 8ms/step - loss: 4.1799\n",
      "Epoch 14/40\n",
      "3/3 [==============================] - 0s 7ms/step - loss: 2.7711\n",
      "Epoch 15/40\n",
      "3/3 [==============================] - 0s 7ms/step - loss: 1.5728\n",
      "Epoch 16/40\n",
      "3/3 [==============================] - 0s 7ms/step - loss: 0.6768\n",
      "Epoch 17/40\n",
      "3/3 [==============================] - 0s 6ms/step - loss: 0.3345\n",
      "Epoch 18/40\n",
      "3/3 [==============================] - 0s 8ms/step - loss: 0.7233\n",
      "Epoch 19/40\n",
      "3/3 [==============================] - 0s 7ms/step - loss: 0.9087\n",
      "Epoch 20/40\n",
      "3/3 [==============================] - 0s 8ms/step - loss: 0.6345\n",
      "Epoch 21/40\n",
      "3/3 [==============================] - 0s 6ms/step - loss: 0.4174\n",
      "Epoch 22/40\n",
      "3/3 [==============================] - 0s 8ms/step - loss: 0.3617\n",
      "Epoch 23/40\n",
      "3/3 [==============================] - 0s 8ms/step - loss: 0.3725\n",
      "Epoch 24/40\n",
      "3/3 [==============================] - 0s 7ms/step - loss: 0.3958\n",
      "Epoch 25/40\n",
      "3/3 [==============================] - 0s 7ms/step - loss: 0.4094\n",
      "Epoch 26/40\n",
      "3/3 [==============================] - 0s 7ms/step - loss: 0.3544\n",
      "Epoch 27/40\n",
      "3/3 [==============================] - 0s 9ms/step - loss: 0.3450\n",
      "Epoch 28/40\n",
      "3/3 [==============================] - 0s 7ms/step - loss: 0.2752\n",
      "Epoch 29/40\n",
      "3/3 [==============================] - 0s 6ms/step - loss: 0.3036\n",
      "Epoch 30/40\n",
      "3/3 [==============================] - 0s 6ms/step - loss: 0.2606\n",
      "Epoch 31/40\n",
      "3/3 [==============================] - 0s 8ms/step - loss: 0.2655\n",
      "Epoch 32/40\n",
      "3/3 [==============================] - 0s 6ms/step - loss: 0.2650\n",
      "Epoch 33/40\n",
      "3/3 [==============================] - 0s 7ms/step - loss: 0.2501\n",
      "Epoch 34/40\n",
      "3/3 [==============================] - 0s 11ms/step - loss: 0.2256\n",
      "Epoch 35/40\n",
      "3/3 [==============================] - 0s 7ms/step - loss: 0.2382\n",
      "Epoch 36/40\n",
      "3/3 [==============================] - 0s 6ms/step - loss: 0.2110\n",
      "Epoch 37/40\n",
      "3/3 [==============================] - 0s 6ms/step - loss: 0.2068\n",
      "Epoch 38/40\n",
      "3/3 [==============================] - 0s 8ms/step - loss: 0.1748\n",
      "Epoch 39/40\n",
      "3/3 [==============================] - 0s 5ms/step - loss: 0.1688\n",
      "Epoch 40/40\n",
      "3/3 [==============================] - 0s 7ms/step - loss: 0.1636\n"
     ]
    },
    {
     "data": {
      "text/plain": [
       "<keras.callbacks.History at 0x13b37cc88>"
      ]
     },
     "execution_count": 12,
     "metadata": {},
     "output_type": "execute_result"
    }
   ],
   "source": [
    "# Fit the model for 40 epochs\n",
    "model.fit_generator(train_generator, steps_per_epoch=n_steps, verbose=1, epochs=40)"
   ]
  },
  {
   "cell_type": "code",
   "execution_count": 13,
   "metadata": {},
   "outputs": [
    {
     "data": {
      "text/plain": [
       "<matplotlib.legend.Legend at 0x13c2b90b8>"
      ]
     },
     "execution_count": 13,
     "metadata": {},
     "output_type": "execute_result"
    },
    {
     "data": {
      "image/png": "[encoded data removed]",
      "text/plain": [
       "<Figure size 576x432 with 1 Axes>"
      ]
     },
     "metadata": {
      "needs_background": "light"
     },
     "output_type": "display_data"
    }
   ],
   "source": [
    "import matplotlib.pyplot as plt\n",
    "%matplotlib inline\n",
    "plt.rcParams['font.size'] = 20\n",
    "\n",
    "plt.figure(figsize=(8, 6))\n",
    "plt.plot(model.history.history['loss'], 'o-r', label='Train Loss')\n",
    "plt.xlabel('Epoch')\n",
    "plt.ylabel(\"Loss (a.u.)\")\n",
    "plt.legend(frameon=False)"
   ]
  },
  {
   "cell_type": "code",
   "execution_count": null,
   "metadata": {},
   "outputs": [],
   "source": []
  }
 ],
 "metadata": {
  "kernelspec": {
   "display_name": "Python 3",
   "language": "python",
   "name": "python3"
  },
  "language_info": {
   "codemirror_mode": {
    "name": "ipython",
    "version": 3
   },
   "file_extension": ".py",
   "mimetype": "text/x-python",
   "name": "python",
   "nbconvert_exporter": "python",
   "pygments_lexer": "ipython3",
   "version": "3.7.3"
  }
 },
 "nbformat": 4,
 "nbformat_minor": 2
}
