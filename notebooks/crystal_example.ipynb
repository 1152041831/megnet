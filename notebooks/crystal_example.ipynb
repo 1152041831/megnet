{
 "cells": [
  {
   "cell_type": "markdown",
   "metadata": {},
   "source": [
    "# Load data"
   ]
  },
  {
   "cell_type": "code",
   "execution_count": 3,
   "metadata": {},
   "outputs": [],
   "source": [
    "import numpy as np \n",
    "from monty.json import MontyDecoder\n",
    "from monty.serialization import loadfn\n",
    "\n",
    "data = loadfn('bulk_moduli.json')\n",
    "structures = data['structures']\n",
    "targets = np.log10(data['bulk_moduli'])"
   ]
  },
  {
   "cell_type": "markdown",
   "metadata": {},
   "source": [
    "# Set up model and train"
   ]
  },
  {
   "cell_type": "code",
   "execution_count": 4,
   "metadata": {},
   "outputs": [],
   "source": [
    "from megnet.data.crystal import CrystalGraph\n",
    "from megnet.data.graph import GaussianDistance\n",
    "from megnet.model import megnet_model\n",
    "\n",
    "model = megnet_model(10, 2, n_blocks=1, lr=1e-2,\n",
    "                     n1=4, n2=4, n3=4, n_pass=1, n_target=1,\n",
    "                     graph_convertor=CrystalGraph(),\n",
    "                     distance_convertor=GaussianDistance(np.linspace(0, 5, 10), 0.5))"
   ]
  },
  {
   "cell_type": "code",
   "execution_count": 5,
   "metadata": {},
   "outputs": [
    {
     "name": "stdout",
     "output_type": "stream",
     "text": [
      "WARNING:tensorflow:From /Users/shyue/miniconda3/lib/python3.7/site-packages/tensorflow/python/ops/math_ops.py:3066: to_int32 (from tensorflow.python.ops.math_ops) is deprecated and will be removed in a future version.\n",
      "Instructions for updating:\n",
      "Use tf.cast instead.\n",
      "WARNING:tensorflow:From /Users/shyue/miniconda3/lib/python3.7/site-packages/tensorflow/python/ops/math_grad.py:199: div (from tensorflow.python.ops.math_ops) is deprecated and will be removed in a future version.\n",
      "Instructions for updating:\n",
      "Deprecated in favor of operator or tf.math.divide.\n",
      "Epoch 1/2\n",
      "1/1 [==============================] - 3s 3s/step - loss: 0.9982\n",
      "Epoch 2/2\n",
      "1/1 [==============================] - 0s 24ms/step - loss: 0.9971\n"
     ]
    }
   ],
   "source": [
    "model.train(structures, targets, epochs=2)"
   ]
  },
  {
   "cell_type": "markdown",
   "metadata": {},
   "source": [
    "# Prediction"
   ]
  },
  {
   "cell_type": "markdown",
   "metadata": {},
   "source": [
    "## Predict from structure"
   ]
  },
  {
   "cell_type": "code",
   "execution_count": 6,
   "metadata": {},
   "outputs": [],
   "source": [
    "from pymatgen import MPRester\n",
    "mpr = MPRester()\n",
    "\n",
    "# let's get some structure\n",
    "structure = mpr.get_structure_by_material_id('mp-2340')"
   ]
  },
  {
   "cell_type": "code",
   "execution_count": 7,
   "metadata": {},
   "outputs": [],
   "source": [
    "predicted_K = 10**model.predict_structure(structure).ravel()"
   ]
  },
  {
   "cell_type": "code",
   "execution_count": 8,
   "metadata": {},
   "outputs": [
    {
     "name": "stdout",
     "output_type": "stream",
     "text": [
      "The predicted K for Na6 O6 is 90.84707641601562 GPa\n"
     ]
    }
   ],
   "source": [
    "print('The predicted K for {} is {} GPa'.format(structure.formula, predicted_K[0]))"
   ]
  },
  {
   "cell_type": "code",
   "execution_count": null,
   "metadata": {},
   "outputs": [],
   "source": []
  }
 ],
 "metadata": {
  "kernelspec": {
   "display_name": "Python 3",
   "language": "python",
   "name": "python3"
  },
  "language_info": {
   "codemirror_mode": {
    "name": "ipython",
    "version": 3
   },
   "file_extension": ".py",
   "mimetype": "text/x-python",
   "name": "python",
   "nbconvert_exporter": "python",
   "pygments_lexer": "ipython3",
   "version": "3.7.3"
  }
 },
 "nbformat": 4,
 "nbformat_minor": 2
}
