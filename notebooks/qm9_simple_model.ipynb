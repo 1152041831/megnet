{
 "cells": [
  {
   "cell_type": "markdown",
   "metadata": {},
   "source": [
    "## Load sample data"
   ]
  },
  {
   "cell_type": "code",
   "execution_count": 1,
   "metadata": {},
   "outputs": [],
   "source": [
    "import json\n",
    "with open('qm9_sample.json', 'r') as f:\n",
    "    data = json.load(f)"
   ]
  },
  {
   "cell_type": "markdown",
   "metadata": {},
   "source": [
    "## Process train_structures and train_targets"
   ]
  },
  {
   "cell_type": "code",
   "execution_count": 2,
   "metadata": {},
   "outputs": [
    {
     "name": "stderr",
     "output_type": "stream",
     "text": [
      "WARNING:root:Openbabel is needed for molecule models, try 'conda install -c openbabel openbabel' to install it\n"
     ]
    }
   ],
   "source": [
    "from pymatgen import Molecule\n",
    "from megnet.utils.molecule import MEGNetMolecule\n",
    "\n",
    "qm9_ids = list(data.keys())\n",
    "\n",
    "molecules = [Molecule.from_dict(data[i]['molecule']) for i in qm9_ids]  # this gives a list of pymatgen Molecule\n",
    "\n",
    "structures = [MEGNetMolecule.from_pymatgen(i) for i in molecules]  # Wrap Molecule to MEGNetMolecule\n",
    "targets = [data[i]['property']['U0'] for i in qm9_ids]  # We are training U0 here\n"
   ]
  },
  {
   "cell_type": "markdown",
   "metadata": {},
   "source": [
    "## Data splits\n",
    "\n",
    "In reality, use train-val-test splits. Validation split can be used to select hyperparameters (e.g., epochs)"
   ]
  },
  {
   "cell_type": "code",
   "execution_count": 3,
   "metadata": {},
   "outputs": [],
   "source": [
    "train_structures = structures[:80]\n",
    "test_structures = structures[80:]\n",
    "train_targets = targets[:80]\n",
    "test_targets = targets[80:]"
   ]
  },
  {
   "cell_type": "markdown",
   "metadata": {},
   "source": [
    "## Construct megnet models"
   ]
  },
  {
   "cell_type": "code",
   "execution_count": 4,
   "metadata": {},
   "outputs": [
    {
     "name": "stderr",
     "output_type": "stream",
     "text": [
      "Using TensorFlow backend.\n"
     ]
    }
   ],
   "source": [
    "from megnet.models import MEGNetModel\n",
    "from megnet.data.graph import GaussianDistance\n",
    "from megnet.data.crystal import CrystalGraph\n",
    "from megnet.utils.preprocessing import StandardScaler\n",
    "import numpy as np"
   ]
  },
  {
   "cell_type": "code",
   "execution_count": 5,
   "metadata": {},
   "outputs": [],
   "source": [
    "gc = CrystalGraph(bond_converter=GaussianDistance(np.linspace(0, 5, 100), 0.5), cutoff=4)\n",
    "model = MEGNetModel(100, 2, graph_converter=gc)"
   ]
  },
  {
   "cell_type": "markdown",
   "metadata": {},
   "source": [
    "### Scale targets to train per atom quantity "
   ]
  },
  {
   "cell_type": "code",
   "execution_count": 6,
   "metadata": {},
   "outputs": [],
   "source": [
    "INTENSIVE = False # U0 is an extensive quantity\n",
    "scaler = StandardScaler.from_training_data(train_structures, train_targets, is_intensive=INTENSIVE)\n",
    "model.target_scaler = scaler"
   ]
  },
  {
   "cell_type": "markdown",
   "metadata": {},
   "source": [
    "## Train the model!"
   ]
  },
  {
   "cell_type": "code",
   "execution_count": 7,
   "metadata": {},
   "outputs": [
    {
     "name": "stderr",
     "output_type": "stream",
     "text": [
      "/Users/chenchi/miniconda3/lib/python3.7/site-packages/tensorflow_core/python/framework/indexed_slices.py:424: UserWarning: Converting sparse IndexedSlices to a dense Tensor of unknown shape. This may consume a large amount of memory.\n",
      "  \"Converting sparse IndexedSlices to a dense Tensor of unknown shape. \"\n"
     ]
    },
    {
     "name": "stdout",
     "output_type": "stream",
     "text": [
      "Epoch 1/10\n",
      " - 8s - loss: 0.9995\n",
      "Epoch 2/10\n",
      " - 1s - loss: 0.9984\n",
      "Epoch 3/10\n",
      " - 1s - loss: 0.9967\n",
      "Epoch 4/10\n",
      " - 1s - loss: 0.9950\n",
      "Epoch 5/10\n",
      " - 1s - loss: 0.9932\n",
      "Epoch 6/10\n",
      " - 1s - loss: 0.9908\n",
      "Epoch 7/10\n",
      " - 1s - loss: 0.9878\n",
      "Epoch 8/10\n",
      " - 1s - loss: 0.9844\n",
      "Epoch 9/10\n",
      " - 0s - loss: 0.9800\n",
      "Epoch 10/10\n",
      " - 1s - loss: 0.9742\n"
     ]
    }
   ],
   "source": [
    "model.train(train_structures, train_targets, epochs=10, verbose=2)  # In reality, use epochs>1000"
   ]
  },
  {
   "cell_type": "markdown",
   "metadata": {},
   "source": [
    "## Predict test data"
   ]
  },
  {
   "cell_type": "code",
   "execution_count": 8,
   "metadata": {},
   "outputs": [],
   "source": [
    "predicted_tests = []\n",
    "for i in test_structures:\n",
    "    predicted_tests.append(model.predict_structure(i).ravel()[0])"
   ]
  },
  {
   "cell_type": "code",
   "execution_count": 9,
   "metadata": {},
   "outputs": [
    {
     "data": {
      "text/plain": [
       "Text(0, 0.5, 'Predicted $U_0$ (eV)')"
      ]
     },
     "execution_count": 9,
     "metadata": {},
     "output_type": "execute_result"
    },
    {
     "data": {
      "image/png": "[encoded data removed]",
      "text/plain": [
       "<Figure size 432x288 with 1 Axes>"
      ]
     },
     "metadata": {
      "needs_background": "light"
     },
     "output_type": "display_data"
    }
   ],
   "source": [
    "import matplotlib.pyplot as plt\n",
    "%matplotlib inline\n",
    "\n",
    "plt.plot(test_targets, predicted_tests, 'o')\n",
    "plt.xlabel('True $U_0$ (eV)')\n",
    "plt.ylabel('Predicted $U_0$ (eV)')"
   ]
  },
  {
   "cell_type": "markdown",
   "metadata": {},
   "source": [
    "Results seem to be good considering that we are using 80 data points to train the model!"
   ]
  }
 ],
 "metadata": {
  "kernelspec": {
   "display_name": "Python 3",
   "language": "python",
   "name": "python3"
  },
  "language_info": {
   "codemirror_mode": {
    "name": "ipython",
    "version": 3
   },
   "file_extension": ".py",
   "mimetype": "text/x-python",
   "name": "python",
   "nbconvert_exporter": "python",
   "pygments_lexer": "ipython3",
   "version": "3.7.3"
  }
 },
 "nbformat": 4,
 "nbformat_minor": 2
}
