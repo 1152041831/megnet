{
 "cells": [
  {
   "cell_type": "markdown",
   "metadata": {},
   "source": [
    "# Load data"
   ]
  },
  {
   "cell_type": "code",
   "execution_count": 1,
   "metadata": {},
   "outputs": [],
   "source": [
    "import numpy as np \n",
    "from monty.json import MontyDecoder\n",
    "from monty.serialization import loadfn\n",
    "\n",
    "data = loadfn('./bulk_moduli.json', cls=MontyDecoder)\n",
    "structures = data['structures']\n",
    "targets = np.log10(data['bulk_moduli'])"
   ]
  },
  {
   "cell_type": "markdown",
   "metadata": {},
   "source": [
    "# Set up model and train"
   ]
  },
  {
   "cell_type": "code",
   "execution_count": 2,
   "metadata": {},
   "outputs": [
    {
     "name": "stderr",
     "output_type": "stream",
     "text": [
      "Using TensorFlow backend.\n"
     ]
    }
   ],
   "source": [
    "from megnet.data.crystal import CrystalGraph\n",
    "from megnet.data.graph import GaussianDistance\n",
    "from megnet.model import megnet_model\n",
    "\n",
    "model = megnet_model(10, 2, n_blocks=1, lr=1e-2,\n",
    "                     n1=4, n2=4, n3=4, n_pass=1, n_target=1,\n",
    "                     graph_convertor=CrystalGraph(),\n",
    "                     distance_convertor=GaussianDistance(np.linspace(0, 5, 10), 0.5))"
   ]
  },
  {
   "cell_type": "code",
   "execution_count": 3,
   "metadata": {},
   "outputs": [
    {
     "name": "stdout",
     "output_type": "stream",
     "text": [
      "Epoch 1/2\n",
      "1/1 [==============================] - 2s 2s/step - loss: 0.9996\n",
      "Epoch 2/2\n",
      "1/1 [==============================] - 0s 50ms/step - loss: 0.9979\n"
     ]
    }
   ],
   "source": [
    "model.train(structures, targets, epochs=2)"
   ]
  },
  {
   "cell_type": "markdown",
   "metadata": {},
   "source": [
    "# Prediction"
   ]
  },
  {
   "cell_type": "markdown",
   "metadata": {},
   "source": [
    "## Predict from structure"
   ]
  },
  {
   "cell_type": "code",
   "execution_count": 4,
   "metadata": {},
   "outputs": [],
   "source": [
    "from pymatgen import MPRester\n",
    "mpr = MPRester()\n",
    "\n",
    "# let's get some structure\n",
    "structure = mpr.get_structure_by_material_id('mp-2340')\n"
   ]
  },
  {
   "cell_type": "code",
   "execution_count": 5,
   "metadata": {},
   "outputs": [],
   "source": [
    "predicted_K = 10**model.predict_structure(structure).ravel()"
   ]
  },
  {
   "cell_type": "code",
   "execution_count": 6,
   "metadata": {},
   "outputs": [
    {
     "name": "stdout",
     "output_type": "stream",
     "text": [
      "The predicted K for Na6 O6 is 91.50774383544922 GPa\n"
     ]
    }
   ],
   "source": [
    "print('The predicted K for {} is {} GPa'.format(structure.formula, predicted_K[0]))"
   ]
  }
 ],
 "metadata": {
  "kernelspec": {
   "display_name": "Python 3",
   "language": "python",
   "name": "python3"
  },
  "language_info": {
   "codemirror_mode": {
    "name": "ipython",
    "version": 3
   },
   "file_extension": ".py",
   "mimetype": "text/x-python",
   "name": "python",
   "nbconvert_exporter": "python",
   "pygments_lexer": "ipython3",
   "version": "3.6.8"
  }
 },
 "nbformat": 4,
 "nbformat_minor": 2
}
