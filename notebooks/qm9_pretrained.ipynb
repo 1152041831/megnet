{
 "cells": [
  {
   "cell_type": "markdown",
   "metadata": {},
   "source": [
    "### Load QM9 model and predict"
   ]
  },
  {
   "cell_type": "code",
   "execution_count": 1,
   "metadata": {},
   "outputs": [
    {
     "name": "stderr",
     "output_type": "stream",
     "text": [
      "Using TensorFlow backend.\n"
     ]
    }
   ],
   "source": [
    "from megnet.models import MEGNetModel\n",
    "import numpy as np\n",
    "from operator import itemgetter\n",
    "import json\n",
    "\n",
    "def predict(model, graph):\n",
    "    \"\"\"\n",
    "    predict from graph\n",
    "    \"\"\"\n",
    "    return model.predict(model.graph_convertor.graph_to_input(graph)).ravel()[0]\n",
    "\n",
    "def get_graph_from_doc(doc):\n",
    "    \"\"\"\n",
    "    Convert a json document into a megnet graph\n",
    "    \"\"\"\n",
    "    atom = [i['type'] for i in doc['atoms']]\n",
    "\n",
    "    index1_temp = [i['a_idx'] for i in doc['atom_pairs']]\n",
    "    index2_temp = [i['b_idx'] for i in doc['atom_pairs']]\n",
    "    bond_temp = [i['spatial_distance'] for i in doc['atom_pairs']]\n",
    "\n",
    "    index1 = index1_temp + index2_temp\n",
    "    index2 = index2_temp + index1_temp\n",
    "    bond = bond_temp + bond_temp\n",
    "    sort_key = np.argsort(index1)\n",
    "    it = itemgetter(*sort_key)\n",
    "\n",
    "    index1 = it(index1)\n",
    "    index2 = it(index2)\n",
    "    bond = it(bond)\n",
    "    graph = {'atom': atom, 'bond': bond, 'index1': index1, 'index2': index2, 'state': [[0, 0]]}\n",
    "    return graph\n",
    "\n",
    "# load scalers\n",
    "with open('../mvl_models/qm9/scaler.json', 'r') as f:\n",
    "    scaler = json.load(f)\n",
    "    \n",
    "# load an example qm9 document\n",
    "with open('../megnet/data/tests/qm9/000001.json', 'r') as f:\n",
    "    doc = json.load(f)\n",
    "# convert to a graph\n",
    "graph = get_graph_from_doc(doc)"
   ]
  },
  {
   "cell_type": "code",
   "execution_count": 2,
   "metadata": {},
   "outputs": [
    {
     "name": "stdout",
     "output_type": "stream",
     "text": [
      "*** Result Comparisons ***\n",
      "Target\tMEGNet\tQM9\n",
      "mu\t-0.008\t0.000\n",
      "alpha\t13.127\t13.210\n",
      "HOMO\t-10.557\t-10.550\n",
      "LUMO\t3.241\t3.186\n",
      "gap\t13.622\t13.736\n",
      "R2\t35.975\t35.364\n",
      "ZPVE\t1.215\t1.218\n",
      "U0\t-17.166\t-17.172\n",
      "U\t-17.353\t-17.286\n",
      "H\t-17.420\t-17.389\n",
      "G\t-16.107\t-16.152\n",
      "Cv\t6.427\t6.469\n",
      "omega1\t3151.626\t3151.708\n"
     ]
    }
   ],
   "source": [
    "# all target names\n",
    "names = ['mu', 'alpha', 'HOMO', 'LUMO', 'gap', 'R2', 'ZPVE', 'U0', 'U', 'H', 'G', 'Cv', 'omega1']\n",
    "\n",
    "\n",
    "y_pred = []\n",
    "y_true = []\n",
    "\n",
    "print('*** Result Comparisons ***')\n",
    "print('Target\\tMEGNet\\tQM9')\n",
    "\n",
    "for i in names:\n",
    "    model = MEGNetModel.from_file('../mvl_models/qm9/' + i+'.hdf5')\n",
    "    pred = predict(model, graph) \n",
    "    \n",
    "    # if it is an extrinsic quantity, multiply by number of atoms\n",
    "    # else multiply by 1\n",
    "    if scaler[i]['is_per_atom']:\n",
    "        n = len(graph['atom'])\n",
    "    else:\n",
    "        n = 1\n",
    "    # inverse transform of x_transform = (x-x_mean)/x_standard_deviation to get x\n",
    "    pred = (pred * scaler[i]['std'] + scaler[i]['mean'])  * n\n",
    "    \n",
    "    y_pred.append(pred)\n",
    "    y_true.append(doc['mol_info'][i])\n",
    "    print('%s\\t%.3f\\t%.3f' %(i, y_pred[-1], float(y_true[-1])))\n",
    "\n",
    "\n",
    "\n"
   ]
  },
  {
   "cell_type": "markdown",
   "metadata": {},
   "source": [
    "### Predict from SMILES"
   ]
  },
  {
   "cell_type": "code",
   "execution_count": 4,
   "metadata": {},
   "outputs": [],
   "source": [
    "from pymatgen.io.babel import BabelMolAdaptor\n",
    "import pybel as pb\n",
    "import openbabel as ob\n",
    "\n",
    "ATOMNUM2TYPE = {1: 1, 6: 2, 7: 4, 8: 6, 9: 8}\n",
    "\n",
    "class AtomNumberToTypeConvertor:\n",
    "    def __init__(self, mapping=ATOMNUM2TYPE):\n",
    "        self.mapping = mapping\n",
    "    \n",
    "    def convert(self, l):\n",
    "        return [self.mapping[i] for i in l]"
   ]
  },
  {
   "cell_type": "code",
   "execution_count": 5,
   "metadata": {},
   "outputs": [],
   "source": [
    "MODEL_NAME = 'HOMO'\n",
    "\n",
    "model = MEGNetModel.from_file('../mvl_models/qm9/%s.hdf5' % MODEL_NAME)\n",
    "# The default convertor works to convert the atom to Z\n",
    "# We need to convert Z to the type in QM9 dataset\n",
    "model.graph_convertor.atom_convertor = AtomNumberToTypeConvertor() \n",
    "\n",
    "def get_pmg_mol_from_smiles(smiles):\n",
    "    b_mol = pb.readstring('smi', smiles)\n",
    "    b_mol.make3D()\n",
    "    b_mol = b_mol.OBMol\n",
    "    p_mol = BabelMolAdaptor(b_mol).pymatgen_mol\n",
    "    return p_mol"
   ]
  },
  {
   "cell_type": "code",
   "execution_count": 6,
   "metadata": {},
   "outputs": [
    {
     "data": {
      "text/plain": [
       "array([-10.557696], dtype=float32)"
      ]
     },
     "execution_count": 6,
     "metadata": {},
     "output_type": "execute_result"
    }
   ],
   "source": [
    "# The smiles of qm9:000001 is just C\n",
    "mol1 = get_pmg_mol_from_smiles('C')\n",
    "model.predict_structure(mol1) * scaler[MODEL_NAME]['std'] + scaler[MODEL_NAME]['mean']"
   ]
  },
  {
   "cell_type": "markdown",
   "metadata": {},
   "source": [
    "The result matches with previous results when we compute it from pre-computed graph"
   ]
  }
 ],
 "metadata": {
  "kernelspec": {
   "display_name": "Python 3",
   "language": "python",
   "name": "python3"
  },
  "language_info": {
   "codemirror_mode": {
    "name": "ipython",
    "version": 3
   },
   "file_extension": ".py",
   "mimetype": "text/x-python",
   "name": "python",
   "nbconvert_exporter": "python",
   "pygments_lexer": "ipython3",
   "version": "3.6.8"
  }
 },
 "nbformat": 4,
 "nbformat_minor": 2
}
